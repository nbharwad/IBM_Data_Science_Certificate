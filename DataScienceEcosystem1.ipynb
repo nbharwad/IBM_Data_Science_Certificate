{
 "cells": [
  {
   "cell_type": "markdown",
   "id": "c1fcc3e1-65a6-4f7b-9924-9eab91ec66af",
   "metadata": {},
   "source": [
    "# Data Science Tools and Ecosystem!"
   ]
  },
  {
   "cell_type": "markdown",
   "id": "33528ad2-1dff-4d8d-8432-e35f623c633a",
   "metadata": {},
   "source": [
    "In this notebook, Data Sciece Tools and Ecosystem Summarised! "
   ]
  },
  {
   "cell_type": "markdown",
   "id": "2bc6fb02-eb8e-41f2-8dfe-ba883495d5d8",
   "metadata": {},
   "source": [
    "Some of the popular languages that Data Scientists use are: \n",
    "\n",
    "1. Python\n",
    "2. Java\n",
    "3. SQL\n",
    "4. c++ etc ..."
   ]
  },
  {
   "cell_type": "markdown",
   "id": "d172bc06-02b8-4f20-a2c4-e2a8342f2ee0",
   "metadata": {},
   "source": [
    "Some of the commonly user libraries used by Data Scientists includes: \n",
    "1. NumPy.\n",
    "2. Matplotlib.\n",
    "3. SciPy.\n",
    "4. TensorFlow.\n",
    "5. Keras. \n",
    "6. Pytorch.\n",
    "7. Pandas.\n",
    "8. Scikit-Learn.  \n"
   ]
  },
  {
   "cell_type": "markdown",
   "id": "259084fd-488e-44b4-894e-3b60137fdc39",
   "metadata": {},
   "source": [
    "|Data Science Tools|\n",
    "|---|\n",
    "|SAS|\n",
    "|Apache Hadoop|\n",
    "|Tensorflow|\n"
   ]
  },
  {
   "cell_type": "markdown",
   "id": "0456fbac-0441-4ea9-8d14-efce34b708b0",
   "metadata": {},
   "source": [
    "### Below are a few examples of evaluating arithmetic expression in Python. "
   ]
  },
  {
   "cell_type": "code",
   "execution_count": 4,
   "id": "92516731-9590-44ff-93e3-e5222db2d27e",
   "metadata": {},
   "outputs": [
    {
     "data": {
      "text/plain": [
       "10"
      ]
     },
     "execution_count": 4,
     "metadata": {},
     "output_type": "execute_result"
    }
   ],
   "source": [
    "# This is a common arithmetic example to multiply and then add integers. \n",
    "(2*3)+4"
   ]
  },
  {
   "cell_type": "code",
   "execution_count": 5,
   "id": "500d5c14-cf5c-4135-9ab1-da27966b2aa7",
   "metadata": {},
   "outputs": [
    {
     "data": {
      "text/plain": [
       "3.3333333333333335"
      ]
     },
     "execution_count": 5,
     "metadata": {},
     "output_type": "execute_result"
    }
   ],
   "source": [
    "# This will convert 200 minutes into hours by dividing by 60\n",
    "200/60"
   ]
  },
  {
   "cell_type": "markdown",
   "id": "ca42f981-f847-4abd-9e99-3a71aa536d61",
   "metadata": {},
   "source": [
    "__Objectives__\n",
    "* List popular languages for Data science \n",
    "* List popular libraries for Data Science\n",
    "* List of Well Known Data Science Tools\n",
    "* How to provide comments in the cell"
   ]
  },
  {
   "cell_type": "markdown",
   "id": "c664f494-0d95-4369-9cce-40cc2fec92b3",
   "metadata": {},
   "source": [
    "## Author \n",
    "Nilesh Bharwad"
   ]
  },
  {
   "cell_type": "code",
   "execution_count": null,
   "id": "ac7e438d-40eb-4b83-bf38-21654e44381c",
   "metadata": {},
   "outputs": [],
   "source": []
  }
 ],
 "metadata": {
  "kernelspec": {
   "display_name": "Python 3 (ipykernel)",
   "language": "python",
   "name": "python3"
  },
  "language_info": {
   "codemirror_mode": {
    "name": "ipython",
    "version": 3
   },
   "file_extension": ".py",
   "mimetype": "text/x-python",
   "name": "python",
   "nbconvert_exporter": "python",
   "pygments_lexer": "ipython3",
   "version": "3.12.7"
  }
 },
 "nbformat": 4,
 "nbformat_minor": 5
}
